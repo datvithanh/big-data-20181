{
 "cells": [
  {
   "cell_type": "code",
   "execution_count": 113,
   "metadata": {},
   "outputs": [],
   "source": [
    "import numpy as np\n",
    "import pandas as pd\n",
    "from copy import copy, deepcopy\n",
    "import math"
   ]
  },
  {
   "cell_type": "code",
   "execution_count": 80,
   "metadata": {},
   "outputs": [],
   "source": [
    "dataframe = pd.read_csv('./q1-dataset/user-shows.txt', sep='\\s+',header=None)\n"
   ]
  },
  {
   "cell_type": "code",
   "execution_count": 81,
   "metadata": {},
   "outputs": [],
   "source": [
    "R = np.array(dataframe)\n",
    "P = np.zeros((R.shape[0],R.shape[0]))\n",
    "Q = np.zeros((R.shape[1],R.shape[1]))\n",
    "for i in range(R.shape[0]):\n",
    "    P[i][i] = np.sum(R[i,:])\n",
    "for i in range(R.shape[1]):\n",
    "    Q[i][i] = np.sum(R[:,i])"
   ]
  },
  {
   "cell_type": "code",
   "execution_count": 82,
   "metadata": {},
   "outputs": [],
   "source": [
    "# R = np.array([[1,0,1],[1,0,0],[1,1,1],[1,0,1]])\n",
    "# P = np.zeros((R.shape[0],R.shape[0]))\n",
    "# Q = np.zeros((R.shape[1],R.shape[1]))\n",
    "# for i in range(R.shape[0]):\n",
    "#     P[i][i] = np.sum(R[i,:])\n",
    "# for i in range(R.shape[1]):\n",
    "#     Q[i][i] = np.sum(R[:,i])"
   ]
  },
  {
   "cell_type": "code",
   "execution_count": 83,
   "metadata": {},
   "outputs": [],
   "source": [
    "def pw(A, b):\n",
    "    Ac = copy(A)\n",
    "    for i in range(Ac.shape[0]):\n",
    "        for j in range(Ac.shape[1]):\n",
    "            if Ac[i,j]!=0:\n",
    "                Ac[i,j] = Ac[i,j]**b\n",
    "    return Ac"
   ]
  },
  {
   "cell_type": "code",
   "execution_count": 84,
   "metadata": {},
   "outputs": [
    {
     "data": {
      "text/plain": [
       "array([[1.        , 0.32094021, 0.24316061, ..., 0.05605477, 0.08836543,\n",
       "        0.01237116],\n",
       "       [0.32094021, 1.        , 0.47375905, ..., 0.10409765, 0.12494694,\n",
       "        0.02821382],\n",
       "       [0.24316061, 0.47375905, 1.        , ..., 0.11327989, 0.11157299,\n",
       "        0.00723158],\n",
       "       ...,\n",
       "       [0.05605477, 0.10409765, 0.11327989, ..., 1.        , 0.04931793,\n",
       "        0.        ],\n",
       "       [0.08836543, 0.12494694, 0.11157299, ..., 0.04931793, 1.        ,\n",
       "        0.        ],\n",
       "       [0.01237116, 0.02821382, 0.00723158, ..., 0.        , 0.        ,\n",
       "        1.        ]])"
      ]
     },
     "execution_count": 84,
     "metadata": {},
     "output_type": "execute_result"
    }
   ],
   "source": [
    "#item to item similarity matrix\n",
    "Si = pw(Q,-1/2).dot(R.T.dot(R.dot(pw(Q,-1/2))))\n",
    "Si"
   ]
  },
  {
   "cell_type": "code",
   "execution_count": 85,
   "metadata": {},
   "outputs": [
    {
     "data": {
      "text/plain": [
       "array([[1.        , 0.03314968, 0.07644708, ..., 0.07559289, 0.09258201,\n",
       "        0.03877834],\n",
       "       [0.03314968, 1.        , 0.02956562, ..., 0.0877058 , 0.07161149,\n",
       "        0.        ],\n",
       "       [0.07644708, 0.02956562, 1.        , ..., 0.20225996, 0.05504819,\n",
       "        0.13834289],\n",
       "       ...,\n",
       "       [0.07559289, 0.0877058 , 0.20225996, ..., 1.        , 0.        ,\n",
       "        0.10259784],\n",
       "       [0.09258201, 0.07161149, 0.05504819, ..., 0.        , 1.        ,\n",
       "        0.        ],\n",
       "       [0.03877834, 0.        , 0.13834289, ..., 0.10259784, 0.        ,\n",
       "        1.        ]])"
      ]
     },
     "execution_count": 85,
     "metadata": {},
     "output_type": "execute_result"
    }
   ],
   "source": [
    "Su = pw(P,-1/2).dot(R.dot(R.T.dot(pw(P,-1/2))))\n",
    "Su"
   ]
  },
  {
   "cell_type": "code",
   "execution_count": 86,
   "metadata": {},
   "outputs": [
    {
     "data": {
      "text/plain": [
       "array([[ 9.60753925, 13.10317571, 12.23318216, ...,  3.21104654,\n",
       "         3.1958345 ,  0.5460337 ],\n",
       "       [ 4.36209878,  7.69620486,  7.48711214, ...,  2.5659889 ,\n",
       "         2.16145674,  0.35271962],\n",
       "       [ 8.38784944, 16.61201283, 14.99775822, ...,  4.48553862,\n",
       "         4.63638336,  0.57006572],\n",
       "       ...,\n",
       "       [ 1.35142806,  3.06385022,  2.19960949, ...,  0.505658  ,\n",
       "         0.56492792,  0.10841235],\n",
       "       [ 4.30668052,  7.52755966,  7.98718359, ...,  2.76060253,\n",
       "         2.31754441,  0.32536496],\n",
       "       [ 4.09378095,  7.67177907,  7.51854526, ...,  2.04293639,\n",
       "         2.28842818,  0.26419831]])"
      ]
     },
     "execution_count": 86,
     "metadata": {},
     "output_type": "execute_result"
    }
   ],
   "source": [
    "CFi = R.dot(Si)\n",
    "CFi"
   ]
  },
  {
   "cell_type": "code",
   "execution_count": 87,
   "metadata": {},
   "outputs": [
    {
     "data": {
      "text/plain": [
       "array([[2.38694740e+02, 6.23151008e+02, 5.71703488e+02, ...,\n",
       "        4.83274279e+01, 4.21198998e+01, 1.13858692e+00],\n",
       "       [1.33694107e+02, 4.19077188e+02, 4.02414436e+02, ...,\n",
       "        4.54437612e+01, 3.30921828e+01, 8.77272416e-01],\n",
       "       [2.11111685e+02, 7.62741976e+02, 6.67605242e+02, ...,\n",
       "        6.40146288e+01, 6.02625946e+01, 1.19935843e+00],\n",
       "       ...,\n",
       "       [1.15245426e+02, 4.80104040e+02, 3.20864824e+02, ...,\n",
       "        2.40099342e+01, 2.40418785e+01, 7.23715847e-01],\n",
       "       [1.08032264e+02, 3.39089352e+02, 3.65569102e+02, ...,\n",
       "        4.03555262e+01, 2.95288560e+01, 6.09419012e-01],\n",
       "       [1.66264271e+02, 5.63207472e+02, 5.31698345e+02, ...,\n",
       "        4.65848688e+01, 4.67656966e+01, 7.94526464e-01]])"
      ]
     },
     "execution_count": 87,
     "metadata": {},
     "output_type": "execute_result"
    }
   ],
   "source": [
    "CFu = Su.dot(R)\n",
    "CFu"
   ]
  },
  {
   "cell_type": "code",
   "execution_count": 133,
   "metadata": {},
   "outputs": [],
   "source": [
    "shows = np.array(pd.read_csv('./q1-dataset/shows.txt', sep='\\s+',header=None))\n",
    "shows = shows.reshape((shows.shape[0],))\n",
    "f = open('shows.txt', 'w+')\n"
   ]
  },
  {
   "cell_type": "code",
   "execution_count": 134,
   "metadata": {},
   "outputs": [],
   "source": [
    "f.write('item-item shows:\\n')\n",
    "CFiAlex = copy(CFi[499, 0:100])\n",
    "for i in range(5):\n",
    "    idx = CFiAlex.argmax()\n",
    "    f.write('{} {}\\n'.format(shows[idx], CFiAlex[idx]))\n",
    "    CFiAlex[idx] = -math.inf"
   ]
  },
  {
   "cell_type": "code",
   "execution_count": 136,
   "metadata": {},
   "outputs": [],
   "source": [
    "f.write('user-user shows:\\n')\n",
    "CFuAlex = copy(CFu[499, 0:100])\n",
    "for i in range(5):\n",
    "    idx = CFuAlex.argmax()\n",
    "    f.write('{} {}\\n'.format(shows[idx], CFuAlex[idx]))\n",
    "    CFuAlex[idx] = -math.inf"
   ]
  },
  {
   "cell_type": "code",
   "execution_count": 137,
   "metadata": {},
   "outputs": [],
   "source": [
    "f.close()"
   ]
  },
  {
   "cell_type": "code",
   "execution_count": null,
   "metadata": {},
   "outputs": [],
   "source": []
  }
 ],
 "metadata": {
  "kernelspec": {
   "display_name": "Python 3",
   "language": "python",
   "name": "python3"
  },
  "language_info": {
   "codemirror_mode": {
    "name": "ipython",
    "version": 3
   },
   "file_extension": ".py",
   "mimetype": "text/x-python",
   "name": "python",
   "nbconvert_exporter": "python",
   "pygments_lexer": "ipython3",
   "version": "3.6.6"
  }
 },
 "nbformat": 4,
 "nbformat_minor": 2
}
