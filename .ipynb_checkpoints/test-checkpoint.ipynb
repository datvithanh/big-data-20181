{
 "cells": [
  {
   "cell_type": "code",
   "execution_count": 1,
   "metadata": {},
   "outputs": [],
   "source": [
    "import re\n",
    "import sys\n",
    "import os\n",
    "from pyspark import SparkConf, SparkContext\n",
    "\n",
    "def gen_pair(line):\n",
    "    pairs = []\n",
    "    key = line.split()[0]\n",
    "    if len(line.split()) > 1:\n",
    "        for num in line.split()[1].split(','):\n",
    "            pairs.append((key, num))\n",
    "    return pairs"
   ]
  },
  {
   "cell_type": "code",
   "execution_count": 25,
   "metadata": {},
   "outputs": [],
   "source": [
    "sc.stop()"
   ]
  },
  {
   "cell_type": "code",
   "execution_count": 26,
   "metadata": {},
   "outputs": [],
   "source": [
    "conf = SparkConf()\n",
    "sc = SparkContext(conf=conf)\n",
    "lines = sc.textFile(\"hw1/test.txt\")"
   ]
  },
  {
   "cell_type": "code",
   "execution_count": 109,
   "metadata": {},
   "outputs": [
    {
     "name": "stdout",
     "output_type": "stream",
     "text": [
      "[1, 2, 2, 2, 2, 2, 2, 2, 2, 2, 2, 2, 2, 2, 2, 2, 2, 2, 2, 2, 2, 2, 2, 2, 2, 2, 2, 2, 2, 2]\n"
     ]
    }
   ],
   "source": [
    "def line_split(l):\n",
    "    if(len(l.split())>1):\n",
    "    return (l.split()[0], l.split()[1].split(','))\n",
    "#     return []\n",
    "lines = lines.filter(lambda l: len(l.split())>1)\n",
    "friend_list = lines.map(lambda l:(l.split()[0], l.split()[1].split(',')))\n",
    "# friend_pairs = friend_list.flatMapValues(lambda l: l)\n",
    "\n",
    "print(friend_list.collect())"
   ]
  },
  {
   "cell_type": "code",
   "execution_count": 97,
   "metadata": {},
   "outputs": [
    {
     "name": "stdout",
     "output_type": "stream",
     "text": [
      "0    19,14,6,5,9,25,4,11,10,2,13,17,12,24,16,20,28,27\n",
      "1    29,27,7,24,28,21,10,26,2,14,22,4,16,8\n",
      "2    8,27,26,13,4,20,11,7,15,19,14,25\n",
      "3    29,8,4,15,11,20,16,17,13,6,18,22,14,2,26\n",
      "4    29,2,21,17,0,12,20,3,7,23,11\n",
      "5    25,6,8,27,0,9,17,2,10,22,11,15,19,28,16,20\n",
      "6    12,11,27,22,25,5,0,20,18,9,13\n",
      "7    27,4,24,1,21,29,22,2,15,23,19,8,28,12,25,9,14,10\n",
      "8    2,16,5,17,20,26,25,27,11,19,3,15\n",
      "9    12,21,29,14,22,6,19,16,24,0\n",
      "10    22,0,24,12,28,7,27,14,9,1,29,17,21,25,5\n",
      "11    19,16,6,18,15,20,4,0,8,13,2\n",
      "12    21,22,6,9,14,29,4,18,10,17,25,13,0,24,19,7,23,27\n",
      "13    2,29,26,6,22,11,27,25,17,21,18,3,23,4,12,8,0\n",
      "14    22,16,12,0,27,2,21,9,25,28,11,19,3,7,15,10,1\n",
      "15    11,27,8,22,2,3,7,16,25,9,5,18,6,14,26\n",
      "16    29,8,24,20,11,14,26,9,19,18,1,17,5,0,28,15,3\n",
      "17    8,4,13,5,29,21,26,10,2,6,11,19,3,12,16,0\n",
      "18    11,19,6,12,4,16,15,23,3,2,9,21,29,13\n",
      "19    11,0,27,16,8,9,2,18,7,4,20,12,5,17,21,25,14,6\n",
      "20    8,16,6,26,2,4,11,29,9,5,0,19,3\n",
      "21    12,9,29,14,22,7,4,13,1,17,25,10,18,27,19,23,24,28,8\n",
      "22    14,29,12,27,6,24,15,7,10,13,9,21,25\n",
      "23    4,7,11,12,24,25,21,29,13,6,18,22,2\n",
      "24    29,16,22,26,9,1,7,6,10,21,0,12,4,28,23\n",
      "25    5,6,27,14,22,2,0,8,9,21,13,10,7,23,15,19,11,28,12\n",
      "26    2,8,16,20,24,13,28,3,15,27,22,6,17,1,29\n",
      "27    25,2,6,22,7,15,19,8,5,13,1,14\n",
      "28    1,2,10,26,14,5,25,9,21,29,4,16,24,0,8,27,7\n",
      "29    4,24,22,16,3,13,9,21,1,7,12\n"
     ]
    }
   ],
   "source": [
    "def mutual(pair):\n",
    "    pairs = []\n",
    "    for x in pair[1]:\n",
    "        for y in pair[1]:\n",
    "            if(x != y):\n",
    "                pairs.append((x,y))\n",
    "    return pairs\n",
    "\n",
    "def rec_list(pair):\n",
    "    rec = str(pair[0]) + \"    \"\n",
    "    rec_list = []\n",
    "    last_val = -1\n",
    "    for (_id, value) in pair[1]:\n",
    "        if(value == last_val):\n",
    "            rec_list.append((_id,value))\n",
    "        if(len(rec_list) >= 10):\n",
    "            continue\n",
    "        rec_list.append((_id, value))\n",
    "        if(len(rec_list) == 10):\n",
    "            last_val = value\n",
    "    first = False\n",
    "    for (_id, value) in rec_list:\n",
    "        if(first):\n",
    "            rec += \",\"\n",
    "        first = True\n",
    "        rec += str(_id)\n",
    "    return rec\n",
    "    \n",
    "hello = friend_list.flatMap(mutual)\n",
    "hello = hello.subtract(friend_pairs)\n",
    "hello = hello.map(lambda w: ((int(w[0]), int(w[1])), 1))\n",
    "hello = hello.reduceByKey(lambda n1, n2: n1 + n2)\n",
    "hello = hello.map(lambda w: (w[0][0], (w[0][1], w[1])))\n",
    "hello = hello.sortBy(lambda w: (w[0], -w[1][1]))\n",
    "hello = hello.groupByKey().mapValues(list)\n",
    "hello = hello.sortBy(lambda w: w[0])\n",
    "res = hello.map(rec_list)\n",
    "for item in res.collect():\n",
    "    print(item)\n"
   ]
  },
  {
   "cell_type": "code",
   "execution_count": null,
   "metadata": {},
   "outputs": [],
   "source": []
  }
 ],
 "metadata": {
  "kernelspec": {
   "display_name": "Python 3",
   "language": "python",
   "name": "python3"
  },
  "language_info": {
   "codemirror_mode": {
    "name": "ipython",
    "version": 3
   },
   "file_extension": ".py",
   "mimetype": "text/x-python",
   "name": "python",
   "nbconvert_exporter": "python",
   "pygments_lexer": "ipython3",
   "version": "3.6.5"
  }
 },
 "nbformat": 4,
 "nbformat_minor": 2
}
